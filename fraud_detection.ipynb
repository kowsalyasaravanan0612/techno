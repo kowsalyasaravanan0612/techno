{
 "cells": [
  {
   "cell_type": "code",
   "execution_count": 19,
   "id": "935d976b-ffa0-4838-9f3c-2e94579194d9",
   "metadata": {},
   "outputs": [],
   "source": [
    "import pandas as pd\n",
    "import tensorflow as tf\n",
    "import matplotlib.pyplot as plt\n",
    "import numpy as np\n",
    "import pandas as pd\n",
    "\n",
    "from tensorflow.keras import layers, losses\n",
    "from sklearn.model_selection import train_test_split\n",
    "from tensorflow.keras.models import Model\n",
    "\n",
    "import warnings\n",
    "warnings.filterwarnings('ignore')\n"
   ]
  },
  {
   "cell_type": "code",
   "execution_count": 23,
   "id": "2f3f1090-c1f8-4be8-9084-11d9d4493e37",
   "metadata": {},
   "outputs": [],
   "source": [
    "from sklearn.preprocessing import MinMaxScaler"
   ]
  },
  {
   "cell_type": "code",
   "execution_count": 13,
   "id": "44b222a1-e1c4-4766-b125-75c622b9ef0f",
   "metadata": {},
   "outputs": [],
   "source": [
    "cdata=pd.read_csv(r\"C:\\Users\\kowsalya saravanan\\Downloads\\techno intern\\creditcard.csv\")"
   ]
  },
  {
   "cell_type": "code",
   "execution_count": 15,
   "id": "d9750941-cf83-46dc-b379-ac18f6828710",
   "metadata": {},
   "outputs": [
    {
     "data": {
      "text/html": [
       "<div>\n",
       "<style scoped>\n",
       "    .dataframe tbody tr th:only-of-type {\n",
       "        vertical-align: middle;\n",
       "    }\n",
       "\n",
       "    .dataframe tbody tr th {\n",
       "        vertical-align: top;\n",
       "    }\n",
       "\n",
       "    .dataframe thead th {\n",
       "        text-align: right;\n",
       "    }\n",
       "</style>\n",
       "<table border=\"1\" class=\"dataframe\">\n",
       "  <thead>\n",
       "    <tr style=\"text-align: right;\">\n",
       "      <th></th>\n",
       "      <th>Time</th>\n",
       "      <th>V1</th>\n",
       "      <th>V2</th>\n",
       "      <th>V3</th>\n",
       "      <th>V4</th>\n",
       "      <th>V5</th>\n",
       "      <th>V6</th>\n",
       "      <th>V7</th>\n",
       "      <th>V8</th>\n",
       "      <th>V9</th>\n",
       "      <th>...</th>\n",
       "      <th>V21</th>\n",
       "      <th>V22</th>\n",
       "      <th>V23</th>\n",
       "      <th>V24</th>\n",
       "      <th>V25</th>\n",
       "      <th>V26</th>\n",
       "      <th>V27</th>\n",
       "      <th>V28</th>\n",
       "      <th>Amount</th>\n",
       "      <th>Class</th>\n",
       "    </tr>\n",
       "  </thead>\n",
       "  <tbody>\n",
       "    <tr>\n",
       "      <th>0</th>\n",
       "      <td>0.0</td>\n",
       "      <td>-1.359807</td>\n",
       "      <td>-0.072781</td>\n",
       "      <td>2.536347</td>\n",
       "      <td>1.378155</td>\n",
       "      <td>-0.338321</td>\n",
       "      <td>0.462388</td>\n",
       "      <td>0.239599</td>\n",
       "      <td>0.098698</td>\n",
       "      <td>0.363787</td>\n",
       "      <td>...</td>\n",
       "      <td>-0.018307</td>\n",
       "      <td>0.277838</td>\n",
       "      <td>-0.110474</td>\n",
       "      <td>0.066928</td>\n",
       "      <td>0.128539</td>\n",
       "      <td>-0.189115</td>\n",
       "      <td>0.133558</td>\n",
       "      <td>-0.021053</td>\n",
       "      <td>149.62</td>\n",
       "      <td>0</td>\n",
       "    </tr>\n",
       "    <tr>\n",
       "      <th>1</th>\n",
       "      <td>0.0</td>\n",
       "      <td>1.191857</td>\n",
       "      <td>0.266151</td>\n",
       "      <td>0.166480</td>\n",
       "      <td>0.448154</td>\n",
       "      <td>0.060018</td>\n",
       "      <td>-0.082361</td>\n",
       "      <td>-0.078803</td>\n",
       "      <td>0.085102</td>\n",
       "      <td>-0.255425</td>\n",
       "      <td>...</td>\n",
       "      <td>-0.225775</td>\n",
       "      <td>-0.638672</td>\n",
       "      <td>0.101288</td>\n",
       "      <td>-0.339846</td>\n",
       "      <td>0.167170</td>\n",
       "      <td>0.125895</td>\n",
       "      <td>-0.008983</td>\n",
       "      <td>0.014724</td>\n",
       "      <td>2.69</td>\n",
       "      <td>0</td>\n",
       "    </tr>\n",
       "    <tr>\n",
       "      <th>2</th>\n",
       "      <td>1.0</td>\n",
       "      <td>-1.358354</td>\n",
       "      <td>-1.340163</td>\n",
       "      <td>1.773209</td>\n",
       "      <td>0.379780</td>\n",
       "      <td>-0.503198</td>\n",
       "      <td>1.800499</td>\n",
       "      <td>0.791461</td>\n",
       "      <td>0.247676</td>\n",
       "      <td>-1.514654</td>\n",
       "      <td>...</td>\n",
       "      <td>0.247998</td>\n",
       "      <td>0.771679</td>\n",
       "      <td>0.909412</td>\n",
       "      <td>-0.689281</td>\n",
       "      <td>-0.327642</td>\n",
       "      <td>-0.139097</td>\n",
       "      <td>-0.055353</td>\n",
       "      <td>-0.059752</td>\n",
       "      <td>378.66</td>\n",
       "      <td>0</td>\n",
       "    </tr>\n",
       "    <tr>\n",
       "      <th>3</th>\n",
       "      <td>1.0</td>\n",
       "      <td>-0.966272</td>\n",
       "      <td>-0.185226</td>\n",
       "      <td>1.792993</td>\n",
       "      <td>-0.863291</td>\n",
       "      <td>-0.010309</td>\n",
       "      <td>1.247203</td>\n",
       "      <td>0.237609</td>\n",
       "      <td>0.377436</td>\n",
       "      <td>-1.387024</td>\n",
       "      <td>...</td>\n",
       "      <td>-0.108300</td>\n",
       "      <td>0.005274</td>\n",
       "      <td>-0.190321</td>\n",
       "      <td>-1.175575</td>\n",
       "      <td>0.647376</td>\n",
       "      <td>-0.221929</td>\n",
       "      <td>0.062723</td>\n",
       "      <td>0.061458</td>\n",
       "      <td>123.50</td>\n",
       "      <td>0</td>\n",
       "    </tr>\n",
       "    <tr>\n",
       "      <th>4</th>\n",
       "      <td>2.0</td>\n",
       "      <td>-1.158233</td>\n",
       "      <td>0.877737</td>\n",
       "      <td>1.548718</td>\n",
       "      <td>0.403034</td>\n",
       "      <td>-0.407193</td>\n",
       "      <td>0.095921</td>\n",
       "      <td>0.592941</td>\n",
       "      <td>-0.270533</td>\n",
       "      <td>0.817739</td>\n",
       "      <td>...</td>\n",
       "      <td>-0.009431</td>\n",
       "      <td>0.798278</td>\n",
       "      <td>-0.137458</td>\n",
       "      <td>0.141267</td>\n",
       "      <td>-0.206010</td>\n",
       "      <td>0.502292</td>\n",
       "      <td>0.219422</td>\n",
       "      <td>0.215153</td>\n",
       "      <td>69.99</td>\n",
       "      <td>0</td>\n",
       "    </tr>\n",
       "  </tbody>\n",
       "</table>\n",
       "<p>5 rows × 31 columns</p>\n",
       "</div>"
      ],
      "text/plain": [
       "   Time        V1        V2        V3        V4        V5        V6        V7  \\\n",
       "0   0.0 -1.359807 -0.072781  2.536347  1.378155 -0.338321  0.462388  0.239599   \n",
       "1   0.0  1.191857  0.266151  0.166480  0.448154  0.060018 -0.082361 -0.078803   \n",
       "2   1.0 -1.358354 -1.340163  1.773209  0.379780 -0.503198  1.800499  0.791461   \n",
       "3   1.0 -0.966272 -0.185226  1.792993 -0.863291 -0.010309  1.247203  0.237609   \n",
       "4   2.0 -1.158233  0.877737  1.548718  0.403034 -0.407193  0.095921  0.592941   \n",
       "\n",
       "         V8        V9  ...       V21       V22       V23       V24       V25  \\\n",
       "0  0.098698  0.363787  ... -0.018307  0.277838 -0.110474  0.066928  0.128539   \n",
       "1  0.085102 -0.255425  ... -0.225775 -0.638672  0.101288 -0.339846  0.167170   \n",
       "2  0.247676 -1.514654  ...  0.247998  0.771679  0.909412 -0.689281 -0.327642   \n",
       "3  0.377436 -1.387024  ... -0.108300  0.005274 -0.190321 -1.175575  0.647376   \n",
       "4 -0.270533  0.817739  ... -0.009431  0.798278 -0.137458  0.141267 -0.206010   \n",
       "\n",
       "        V26       V27       V28  Amount  Class  \n",
       "0 -0.189115  0.133558 -0.021053  149.62      0  \n",
       "1  0.125895 -0.008983  0.014724    2.69      0  \n",
       "2 -0.139097 -0.055353 -0.059752  378.66      0  \n",
       "3 -0.221929  0.062723  0.061458  123.50      0  \n",
       "4  0.502292  0.219422  0.215153   69.99      0  \n",
       "\n",
       "[5 rows x 31 columns]"
      ]
     },
     "execution_count": 15,
     "metadata": {},
     "output_type": "execute_result"
    }
   ],
   "source": [
    "cdata.head()"
   ]
  },
  {
   "cell_type": "code",
   "execution_count": 46,
   "id": "ad0f3de6-6ef1-4180-b41c-0cd8bc36a235",
   "metadata": {},
   "outputs": [],
   "source": [
    "cdata=cdata.drop('Time',axis=1)"
   ]
  },
  {
   "cell_type": "code",
   "execution_count": 61,
   "id": "1b01ea3d-7995-4174-b78f-67111f860a7c",
   "metadata": {},
   "outputs": [],
   "source": [
    "#separate the data and labels so that it will be easy for understanding\n",
    "data = cdata.iloc[:,:-1].values   #means until the last column\n",
    "labels = cdata.iloc[:,-1].values   #means the last column\n"
   ]
  },
  {
   "cell_type": "code",
   "execution_count": 62,
   "id": "b4dfa3a3-1d87-4f22-8bc6-100dddd57d2a",
   "metadata": {},
   "outputs": [
    {
     "data": {
      "text/plain": [
       "Index(['V1', 'V2', 'V3', 'V4', 'V5', 'V6', 'V7', 'V8', 'V9', 'V10', 'V11',\n",
       "       'V12', 'V13', 'V14', 'V15', 'V16', 'V17', 'V18', 'V19', 'V20', 'V21',\n",
       "       'V22', 'V23', 'V24', 'V25', 'V26', 'V27', 'V28', 'Amount'],\n",
       "      dtype='object')"
      ]
     },
     "execution_count": 62,
     "metadata": {},
     "output_type": "execute_result"
    }
   ],
   "source": [
    "d=cdata.iloc[:,:-1]\n",
    "\n",
    "column=d.columns\n",
    "column"
   ]
  },
  {
   "cell_type": "code",
   "execution_count": 63,
   "id": "b24d2960-ed65-4673-adb1-ba99b7f6f6a1",
   "metadata": {},
   "outputs": [],
   "source": [
    "train_data, test_data, train_labels, test_labels = train_test_split(data, labels, test_size = 0.2, random_state = 21)"
   ]
  },
  {
   "cell_type": "code",
   "execution_count": 64,
   "id": "202576a3-c61a-4e5b-a8e9-131eabf4caad",
   "metadata": {},
   "outputs": [],
   "source": [
    "scaler=MinMaxScaler()\n",
    "train_data=scaler.fit_transform(train_data)\n",
    "test_data=scaler.fit_transform(test_data)"
   ]
  },
  {
   "cell_type": "raw",
   "id": "65f2bcd8-fcb1-4b74-a789-91bef0a2be97",
   "metadata": {},
   "source": [
    "#Now lets Normalize the data\n",
    "#First we will calculate the maximum and minimum value from the training set\n",
    "min = tf.reduce_min(train_data)\n",
    "max = tf.reduce_max(train_data)\n"
   ]
  },
  {
   "cell_type": "raw",
   "id": "794ba4df-e80b-43fb-803f-12787b1e8088",
   "metadata": {},
   "source": [
    "#Now we will use the formula (data - min)/(max - min)\n",
    "train_data = (train_data - min)/(max - min)\n",
    "test_data = (test_data - min)/(max - min)"
   ]
  },
  {
   "cell_type": "code",
   "execution_count": 65,
   "id": "967939aa-3c73-407f-90c6-6f48882cd2ae",
   "metadata": {},
   "outputs": [],
   "source": [
    "#Converting the data into float\n",
    "train_data = tf.cast(train_data, dtype=tf.float32)\n",
    "test_data = tf.cast(test_data, dtype=tf.float32)\n"
   ]
  },
  {
   "cell_type": "code",
   "execution_count": 66,
   "id": "c06f1467-3fec-46c7-a9da-cb9942f3a193",
   "metadata": {},
   "outputs": [],
   "source": [
    "\n",
    "#The labels are either 0 or 1, so I will convert them into boolean(true or false)\n",
    "train_labels = train_labels.astype(bool)\n",
    "test_labels = test_labels.astype(bool)\n"
   ]
  },
  {
   "cell_type": "code",
   "execution_count": 67,
   "id": "d42f9408-0175-4027-818f-817770c40131",
   "metadata": {},
   "outputs": [
    {
     "data": {
      "text/plain": [
       "TensorShape([227845, 29])"
      ]
     },
     "execution_count": 67,
     "metadata": {},
     "output_type": "execute_result"
    }
   ],
   "source": [
    "train_data.shape"
   ]
  },
  {
   "cell_type": "code",
   "execution_count": 68,
   "id": "afd8617b-97ff-4fda-8c86-72190b3e2cbb",
   "metadata": {},
   "outputs": [],
   "source": [
    "#Now let's separate the data for normal ECG from that of abnormal ones\n",
    "#Normal ECG data\n",
    "n_train_data = train_data[train_labels]\n",
    "n_test_data = test_data[test_labels]\n"
   ]
  },
  {
   "cell_type": "code",
   "execution_count": 69,
   "id": "9be61401-1c3e-4d79-ba30-e8e54d2ed762",
   "metadata": {},
   "outputs": [],
   "source": [
    "#Abnormal ECG data\n",
    "an_train_data = train_data[~train_labels]\n",
    "an_test_data = test_data[~test_labels]\n",
    "\n",
    "\n"
   ]
  },
  {
   "cell_type": "code",
   "execution_count": 77,
   "id": "d0cd9186-9669-49b9-b440-04865c60128e",
   "metadata": {},
   "outputs": [
    {
     "data": {
      "image/png": "[encoded data removed]",
      "text/plain": [
       "<Figure size 1500x500 with 1 Axes>"
      ]
     },
     "metadata": {},
     "output_type": "display_data"
    }
   ],
   "source": [
    "#Lets plot a normal ECG\n",
    "plt.figure(figsize=(15,5))\n",
    "plt.plot(column, n_train_data[100])\n",
    "plt.grid()\n",
    "plt.title('Normal ECG')\n",
    "plt.show()"
   ]
  },
  {
   "cell_type": "code",
   "execution_count": 78,
   "id": "8108b463-9e61-4493-b1b9-d724f245c0a6",
   "metadata": {},
   "outputs": [
    {
     "data": {
      "image/png": "[encoded data removed]",
      "text/plain": [
       "<Figure size 1500x500 with 1 Axes>"
      ]
     },
     "metadata": {},
     "output_type": "display_data"
    }
   ],
   "source": [
    "#Lets plot a normal ECG\n",
    "plt.figure(figsize=(15,5))\n",
    "plt.plot(column, an_train_data[100])\n",
    "plt.grid()\n",
    "plt.title('Normal ECG')\n",
    "plt.show()"
   ]
  },
  {
   "cell_type": "code",
   "execution_count": 80,
   "id": "9d1d7894-edc9-4f35-a67f-a6e7ecf0916f",
   "metadata": {},
   "outputs": [
    {
     "data": {
      "text/plain": [
       "TensorShape([383, 29])"
      ]
     },
     "execution_count": 80,
     "metadata": {},
     "output_type": "execute_result"
    }
   ],
   "source": [
    "n_train_data.shape"
   ]
  },
  {
   "cell_type": "code",
   "execution_count": 81,
   "id": "35f0f131-97ac-40fb-866a-9b4ba4948d74",
   "metadata": {},
   "outputs": [],
   "source": [
    "n_features=29"
   ]
  },
  {
   "cell_type": "code",
   "execution_count": 82,
   "id": "3a00dc13-968c-4ab1-921f-beffaca28da8",
   "metadata": {},
   "outputs": [],
   "source": [
    "import tensorflow as tf\n",
    "from tensorflow.keras import layers, Model\n",
    "\n",
    "# Input layer\n",
    "input_layer = layers.Input(shape=(n_features,))\n",
    "\n",
    "# Encoder\n",
    "encoder = layers.Dense(32, activation='relu')(input_layer)\n",
    "encoder = layers.Dense(16, activation='relu')(encoder)\n",
    "\n",
    "# Decoder\n",
    "decoder = layers.Dense(32, activation='relu')(encoder)\n",
    "decoder = layers.Dense(n_features, activation='sigmoid')(decoder)\n",
    "\n",
    "# Classifier\n",
    "classifier = layers.Dense(8, activation='relu')(encoder)\n",
    "output_layer = layers.Dense(1, activation='sigmoid')(classifier)\n",
    "\n",
    "# Create the autoencoder model\n",
    "autoencoder = Model(inputs=input_layer, outputs=decoder)\n",
    "\n",
    "# Create the fraud detection model\n",
    "fraud_detection_model = Model(inputs=input_layer, outputs=output_layer)\n"
   ]
  },
  {
   "cell_type": "code",
   "execution_count": 83,
   "id": "8240c2ac-050e-4ab2-b115-f71b450c103e",
   "metadata": {
    "scrolled": true
   },
   "outputs": [
    {
     "name": "stdout",
     "output_type": "stream",
     "text": [
      "Epoch 1/50\n",
      "891/891 [==============================] - 4s 3ms/step - loss: 0.0042 - val_loss: 0.0247\n",
      "Epoch 2/50\n",
      "891/891 [==============================] - 2s 2ms/step - loss: 9.8844e-04 - val_loss: 0.0247\n",
      "Epoch 3/50\n",
      "891/891 [==============================] - 2s 2ms/step - loss: 7.3118e-04 - val_loss: 0.0240\n",
      "Epoch 4/50\n",
      "891/891 [==============================] - 2s 2ms/step - loss: 6.3637e-04 - val_loss: 0.0226\n",
      "Epoch 5/50\n",
      "891/891 [==============================] - 2s 2ms/step - loss: 5.3545e-04 - val_loss: 0.0231\n",
      "Epoch 6/50\n",
      "891/891 [==============================] - 2s 2ms/step - loss: 4.9233e-04 - val_loss: 0.0214\n",
      "Epoch 7/50\n",
      "891/891 [==============================] - 2s 2ms/step - loss: 3.8322e-04 - val_loss: 0.0214\n",
      "Epoch 8/50\n",
      "891/891 [==============================] - 2s 2ms/step - loss: 3.1616e-04 - val_loss: 0.0205\n",
      "Epoch 9/50\n",
      "891/891 [==============================] - 2s 2ms/step - loss: 2.9095e-04 - val_loss: 0.0197\n",
      "Epoch 10/50\n",
      "891/891 [==============================] - 3s 3ms/step - loss: 2.7730e-04 - val_loss: 0.0191\n",
      "Epoch 11/50\n",
      "891/891 [==============================] - 2s 2ms/step - loss: 2.6763e-04 - val_loss: 0.0188\n",
      "Epoch 12/50\n",
      "891/891 [==============================] - 2s 2ms/step - loss: 2.5906e-04 - val_loss: 0.0188\n",
      "Epoch 13/50\n",
      "891/891 [==============================] - 2s 2ms/step - loss: 2.5159e-04 - val_loss: 0.0190\n",
      "Epoch 14/50\n",
      "891/891 [==============================] - 3s 3ms/step - loss: 2.4456e-04 - val_loss: 0.0192\n",
      "Epoch 15/50\n",
      "891/891 [==============================] - 2s 3ms/step - loss: 2.3785e-04 - val_loss: 0.0197\n",
      "Epoch 16/50\n",
      "891/891 [==============================] - 3s 3ms/step - loss: 2.3248e-04 - val_loss: 0.0202\n",
      "Epoch 17/50\n",
      "891/891 [==============================] - 2s 2ms/step - loss: 2.2863e-04 - val_loss: 0.0206\n",
      "Epoch 18/50\n",
      "891/891 [==============================] - 2s 3ms/step - loss: 2.2566e-04 - val_loss: 0.0206\n",
      "Epoch 19/50\n",
      "891/891 [==============================] - 2s 2ms/step - loss: 2.2352e-04 - val_loss: 0.0206\n",
      "Epoch 20/50\n",
      "891/891 [==============================] - 2s 3ms/step - loss: 2.2120e-04 - val_loss: 0.0208\n",
      "Epoch 21/50\n",
      "891/891 [==============================] - 2s 2ms/step - loss: 2.1853e-04 - val_loss: 0.0214\n",
      "Epoch 22/50\n",
      "891/891 [==============================] - 2s 2ms/step - loss: 2.1638e-04 - val_loss: 0.0216\n",
      "Epoch 23/50\n",
      "891/891 [==============================] - 2s 3ms/step - loss: 2.1421e-04 - val_loss: 0.0222\n",
      "Epoch 24/50\n",
      "891/891 [==============================] - 2s 2ms/step - loss: 2.0985e-04 - val_loss: 0.0213\n",
      "Epoch 25/50\n",
      "891/891 [==============================] - 2s 2ms/step - loss: 1.8688e-04 - val_loss: 0.0198\n",
      "Epoch 26/50\n",
      "891/891 [==============================] - 2s 2ms/step - loss: 1.7777e-04 - val_loss: 0.0197\n",
      "Epoch 27/50\n",
      "891/891 [==============================] - 2s 3ms/step - loss: 1.7453e-04 - val_loss: 0.0200\n",
      "Epoch 28/50\n",
      "891/891 [==============================] - 2s 2ms/step - loss: 1.7182e-04 - val_loss: 0.0201\n",
      "Epoch 29/50\n",
      "891/891 [==============================] - 2s 2ms/step - loss: 1.6976e-04 - val_loss: 0.0203\n",
      "Epoch 30/50\n",
      "891/891 [==============================] - 2s 3ms/step - loss: 1.6739e-04 - val_loss: 0.0200\n",
      "Epoch 31/50\n",
      "891/891 [==============================] - 2s 2ms/step - loss: 1.6614e-04 - val_loss: 0.0206\n",
      "Epoch 32/50\n",
      "891/891 [==============================] - 2s 2ms/step - loss: 1.6417e-04 - val_loss: 0.0200\n",
      "Epoch 33/50\n",
      "891/891 [==============================] - 3s 3ms/step - loss: 1.6307e-04 - val_loss: 0.0203\n",
      "Epoch 34/50\n",
      "891/891 [==============================] - 2s 2ms/step - loss: 1.6236e-04 - val_loss: 0.0197\n",
      "Epoch 35/50\n",
      "891/891 [==============================] - 2s 2ms/step - loss: 1.6137e-04 - val_loss: 0.0203\n",
      "Epoch 36/50\n",
      "891/891 [==============================] - 2s 2ms/step - loss: 1.6050e-04 - val_loss: 0.0203\n",
      "Epoch 37/50\n",
      "891/891 [==============================] - 2s 3ms/step - loss: 1.5982e-04 - val_loss: 0.0201\n",
      "Epoch 38/50\n",
      "891/891 [==============================] - 3s 3ms/step - loss: 1.5912e-04 - val_loss: 0.0200\n",
      "Epoch 39/50\n",
      "891/891 [==============================] - 3s 3ms/step - loss: 1.5856e-04 - val_loss: 0.0201\n",
      "Epoch 40/50\n",
      "891/891 [==============================] - 3s 3ms/step - loss: 1.5805e-04 - val_loss: 0.0202\n",
      "Epoch 41/50\n",
      "891/891 [==============================] - 2s 3ms/step - loss: 1.5743e-04 - val_loss: 0.0199\n",
      "Epoch 42/50\n",
      "891/891 [==============================] - 2s 3ms/step - loss: 1.5664e-04 - val_loss: 0.0199\n",
      "Epoch 43/50\n",
      "891/891 [==============================] - 2s 2ms/step - loss: 1.5612e-04 - val_loss: 0.0202\n",
      "Epoch 44/50\n",
      "891/891 [==============================] - 3s 3ms/step - loss: 1.5505e-04 - val_loss: 0.0201\n",
      "Epoch 45/50\n",
      "891/891 [==============================] - 2s 2ms/step - loss: 1.5405e-04 - val_loss: 0.0199\n",
      "Epoch 46/50\n",
      "891/891 [==============================] - 3s 3ms/step - loss: 1.5291e-04 - val_loss: 0.0201\n",
      "Epoch 47/50\n",
      "891/891 [==============================] - 2s 2ms/step - loss: 1.5152e-04 - val_loss: 0.0200\n",
      "Epoch 48/50\n",
      "891/891 [==============================] - 2s 2ms/step - loss: 1.5016e-04 - val_loss: 0.0201\n",
      "Epoch 49/50\n",
      "891/891 [==============================] - 2s 2ms/step - loss: 1.4880e-04 - val_loss: 0.0203\n",
      "Epoch 50/50\n",
      "891/891 [==============================] - 2s 2ms/step - loss: 1.4728e-04 - val_loss: 0.0202\n"
     ]
    },
    {
     "data": {
      "text/plain": [
       "<keras.src.callbacks.History at 0x1c6b314e810>"
      ]
     },
     "execution_count": 83,
     "metadata": {},
     "output_type": "execute_result"
    }
   ],
   "source": [
    "autoencoder.compile(optimizer='adam', loss='mean_squared_error')\n",
    "autoencoder.fit(train_data,train_data, epochs=50, batch_size=256, validation_data=(test_data, test_data))\n",
    "\n"
   ]
  },
  {
   "cell_type": "code",
   "execution_count": 88,
   "id": "d9e36b5f-74c5-424d-9544-f10631b6b48d",
   "metadata": {
    "scrolled": true
   },
   "outputs": [
    {
     "name": "stdout",
     "output_type": "stream",
     "text": [
      "Epoch 1/50\n",
      "891/891 [==============================] - 4s 3ms/step - loss: 0.0158 - accuracy: 0.9976 - val_loss: 0.0084 - val_accuracy: 0.9985\n",
      "Epoch 2/50\n",
      "891/891 [==============================] - 2s 2ms/step - loss: 0.0059 - accuracy: 0.9987 - val_loss: 0.0053 - val_accuracy: 0.9988\n",
      "Epoch 3/50\n",
      "891/891 [==============================] - 2s 2ms/step - loss: 0.0046 - accuracy: 0.9991 - val_loss: 0.0047 - val_accuracy: 0.9989\n",
      "Epoch 4/50\n",
      "891/891 [==============================] - 2s 2ms/step - loss: 0.0043 - accuracy: 0.9991 - val_loss: 0.0047 - val_accuracy: 0.9989\n",
      "Epoch 5/50\n",
      "891/891 [==============================] - 2s 2ms/step - loss: 0.0040 - accuracy: 0.9992 - val_loss: 0.0050 - val_accuracy: 0.9990\n",
      "Epoch 6/50\n",
      "891/891 [==============================] - 2s 2ms/step - loss: 0.0038 - accuracy: 0.9993 - val_loss: 0.0044 - val_accuracy: 0.9989\n",
      "Epoch 7/50\n",
      "891/891 [==============================] - 2s 2ms/step - loss: 0.0037 - accuracy: 0.9993 - val_loss: 0.0049 - val_accuracy: 0.9990\n",
      "Epoch 8/50\n",
      "891/891 [==============================] - 2s 2ms/step - loss: 0.0036 - accuracy: 0.9993 - val_loss: 0.0048 - val_accuracy: 0.9991\n",
      "Epoch 9/50\n",
      "891/891 [==============================] - 2s 2ms/step - loss: 0.0035 - accuracy: 0.9993 - val_loss: 0.0043 - val_accuracy: 0.9992\n",
      "Epoch 10/50\n",
      "891/891 [==============================] - 2s 3ms/step - loss: 0.0034 - accuracy: 0.9993 - val_loss: 0.0039 - val_accuracy: 0.9993\n",
      "Epoch 11/50\n",
      "891/891 [==============================] - 3s 3ms/step - loss: 0.0033 - accuracy: 0.9994 - val_loss: 0.0043 - val_accuracy: 0.9991\n",
      "Epoch 12/50\n",
      "891/891 [==============================] - 2s 2ms/step - loss: 0.0033 - accuracy: 0.9994 - val_loss: 0.0038 - val_accuracy: 0.9992\n",
      "Epoch 13/50\n",
      "891/891 [==============================] - 2s 3ms/step - loss: 0.0033 - accuracy: 0.9994 - val_loss: 0.0049 - val_accuracy: 0.9991\n",
      "Epoch 14/50\n",
      "891/891 [==============================] - 2s 2ms/step - loss: 0.0033 - accuracy: 0.9994 - val_loss: 0.0053 - val_accuracy: 0.9991\n",
      "Epoch 15/50\n",
      "891/891 [==============================] - 2s 2ms/step - loss: 0.0032 - accuracy: 0.9994 - val_loss: 0.0043 - val_accuracy: 0.9992\n",
      "Epoch 16/50\n",
      "891/891 [==============================] - 2s 3ms/step - loss: 0.0032 - accuracy: 0.9994 - val_loss: 0.0058 - val_accuracy: 0.9990\n",
      "Epoch 17/50\n",
      "891/891 [==============================] - 2s 2ms/step - loss: 0.0032 - accuracy: 0.9994 - val_loss: 0.0066 - val_accuracy: 0.9989\n",
      "Epoch 18/50\n",
      "891/891 [==============================] - 2s 2ms/step - loss: 0.0032 - accuracy: 0.9994 - val_loss: 0.0038 - val_accuracy: 0.9993\n",
      "Epoch 19/50\n",
      "891/891 [==============================] - 3s 3ms/step - loss: 0.0032 - accuracy: 0.9994 - val_loss: 0.0043 - val_accuracy: 0.9992\n",
      "Epoch 20/50\n",
      "891/891 [==============================] - 2s 3ms/step - loss: 0.0032 - accuracy: 0.9994 - val_loss: 0.0048 - val_accuracy: 0.9986\n",
      "Epoch 21/50\n",
      "891/891 [==============================] - 2s 2ms/step - loss: 0.0031 - accuracy: 0.9994 - val_loss: 0.0045 - val_accuracy: 0.9988\n",
      "Epoch 22/50\n",
      "891/891 [==============================] - 2s 2ms/step - loss: 0.0032 - accuracy: 0.9994 - val_loss: 0.0052 - val_accuracy: 0.9988\n",
      "Epoch 23/50\n",
      "891/891 [==============================] - 2s 2ms/step - loss: 0.0031 - accuracy: 0.9994 - val_loss: 0.0051 - val_accuracy: 0.9987\n",
      "Epoch 24/50\n",
      "891/891 [==============================] - 3s 3ms/step - loss: 0.0031 - accuracy: 0.9994 - val_loss: 0.0050 - val_accuracy: 0.9991\n",
      "Epoch 25/50\n",
      "891/891 [==============================] - 2s 2ms/step - loss: 0.0030 - accuracy: 0.9994 - val_loss: 0.0045 - val_accuracy: 0.9991\n",
      "Epoch 26/50\n",
      "891/891 [==============================] - 2s 2ms/step - loss: 0.0031 - accuracy: 0.9994 - val_loss: 0.0042 - val_accuracy: 0.9991\n",
      "Epoch 27/50\n",
      "891/891 [==============================] - 3s 3ms/step - loss: 0.0030 - accuracy: 0.9994 - val_loss: 0.0038 - val_accuracy: 0.9993\n",
      "Epoch 28/50\n",
      "891/891 [==============================] - 2s 3ms/step - loss: 0.0030 - accuracy: 0.9994 - val_loss: 0.0050 - val_accuracy: 0.9988\n",
      "Epoch 29/50\n",
      "891/891 [==============================] - 3s 3ms/step - loss: 0.0030 - accuracy: 0.9994 - val_loss: 0.0046 - val_accuracy: 0.9990\n",
      "Epoch 30/50\n",
      "891/891 [==============================] - 3s 3ms/step - loss: 0.0030 - accuracy: 0.9994 - val_loss: 0.0042 - val_accuracy: 0.9989\n",
      "Epoch 31/50\n",
      "891/891 [==============================] - 2s 2ms/step - loss: 0.0030 - accuracy: 0.9994 - val_loss: 0.0047 - val_accuracy: 0.9990\n",
      "Epoch 32/50\n",
      "891/891 [==============================] - 2s 2ms/step - loss: 0.0030 - accuracy: 0.9994 - val_loss: 0.0041 - val_accuracy: 0.9989\n",
      "Epoch 33/50\n",
      "891/891 [==============================] - 2s 2ms/step - loss: 0.0030 - accuracy: 0.9994 - val_loss: 0.0039 - val_accuracy: 0.9992\n",
      "Epoch 34/50\n",
      "891/891 [==============================] - 2s 3ms/step - loss: 0.0030 - accuracy: 0.9994 - val_loss: 0.0041 - val_accuracy: 0.9990\n",
      "Epoch 35/50\n",
      "891/891 [==============================] - 2s 3ms/step - loss: 0.0029 - accuracy: 0.9994 - val_loss: 0.0055 - val_accuracy: 0.9989\n",
      "Epoch 36/50\n",
      "891/891 [==============================] - 2s 2ms/step - loss: 0.0029 - accuracy: 0.9994 - val_loss: 0.0047 - val_accuracy: 0.9990\n",
      "Epoch 37/50\n",
      "891/891 [==============================] - 2s 2ms/step - loss: 0.0029 - accuracy: 0.9994 - val_loss: 0.0064 - val_accuracy: 0.9982\n",
      "Epoch 38/50\n",
      "891/891 [==============================] - 2s 2ms/step - loss: 0.0029 - accuracy: 0.9995 - val_loss: 0.0039 - val_accuracy: 0.9990\n",
      "Epoch 39/50\n",
      "891/891 [==============================] - 2s 2ms/step - loss: 0.0029 - accuracy: 0.9995 - val_loss: 0.0048 - val_accuracy: 0.9984\n",
      "Epoch 40/50\n",
      "891/891 [==============================] - 2s 3ms/step - loss: 0.0029 - accuracy: 0.9995 - val_loss: 0.0039 - val_accuracy: 0.9993\n",
      "Epoch 41/50\n",
      "891/891 [==============================] - 2s 3ms/step - loss: 0.0029 - accuracy: 0.9995 - val_loss: 0.0038 - val_accuracy: 0.9991\n",
      "Epoch 42/50\n",
      "891/891 [==============================] - 2s 2ms/step - loss: 0.0029 - accuracy: 0.9995 - val_loss: 0.0044 - val_accuracy: 0.9990\n",
      "Epoch 43/50\n",
      "891/891 [==============================] - 2s 2ms/step - loss: 0.0029 - accuracy: 0.9994 - val_loss: 0.0049 - val_accuracy: 0.9987\n",
      "Epoch 44/50\n",
      "891/891 [==============================] - 2s 2ms/step - loss: 0.0028 - accuracy: 0.9995 - val_loss: 0.0060 - val_accuracy: 0.9985\n",
      "Epoch 45/50\n",
      "891/891 [==============================] - 2s 2ms/step - loss: 0.0029 - accuracy: 0.9995 - val_loss: 0.0055 - val_accuracy: 0.9985\n",
      "Epoch 46/50\n",
      "891/891 [==============================] - 2s 2ms/step - loss: 0.0028 - accuracy: 0.9995 - val_loss: 0.0041 - val_accuracy: 0.9990\n",
      "Epoch 47/50\n",
      "891/891 [==============================] - 2s 3ms/step - loss: 0.0028 - accuracy: 0.9995 - val_loss: 0.0057 - val_accuracy: 0.9987\n",
      "Epoch 48/50\n",
      "891/891 [==============================] - 3s 3ms/step - loss: 0.0029 - accuracy: 0.9994 - val_loss: 0.0047 - val_accuracy: 0.9987\n",
      "Epoch 49/50\n",
      "891/891 [==============================] - 2s 2ms/step - loss: 0.0028 - accuracy: 0.9995 - val_loss: 0.0040 - val_accuracy: 0.9990\n",
      "Epoch 50/50\n",
      "891/891 [==============================] - 2s 2ms/step - loss: 0.0028 - accuracy: 0.9995 - val_loss: 0.0043 - val_accuracy: 0.9987\n"
     ]
    },
    {
     "data": {
      "text/plain": [
       "<keras.src.callbacks.History at 0x1c6b83d9090>"
      ]
     },
     "execution_count": 88,
     "metadata": {},
     "output_type": "execute_result"
    }
   ],
   "source": [
    "fraud_detection_model.compile(optimizer='adam', loss='binary_crossentropy', metrics=['accuracy'])\n",
    "fraud_detection_model.fit(train_data, train_labels, epochs=50, batch_size=256, validation_data=(test_data, test_labels))\n"
   ]
  },
  {
   "cell_type": "code",
   "execution_count": 90,
   "id": "b72ec4fe-5e54-4b31-8c3d-2a5186d5b3fe",
   "metadata": {},
   "outputs": [
    {
     "name": "stdout",
     "output_type": "stream",
     "text": [
      "1781/1781 [==============================] - 3s 1ms/step\n",
      "              precision    recall  f1-score   support\n",
      "\n",
      "       False       1.00      1.00      1.00     56853\n",
      "        True       0.97      0.32      0.48       109\n",
      "\n",
      "    accuracy                           1.00     56962\n",
      "   macro avg       0.99      0.66      0.74     56962\n",
      "weighted avg       1.00      1.00      1.00     56962\n",
      "\n",
      "AUC:  0.6605416641049338\n"
     ]
    }
   ],
   "source": [
    "from sklearn.metrics import classification_report, roc_auc_score\n",
    "\n",
    "y_pred = fraud_detection_model.predict(test_data)\n",
    "y_pred = (y_pred > 0.5)\n",
    "\n",
    "print(classification_report(test_labels, y_pred))\n",
    "print(\"AUC: \", roc_auc_score(test_labels, y_pred))\n"
   ]
  },
  {
   "cell_type": "code",
   "execution_count": 94,
   "id": "732e4690-d728-4267-a5c7-593061047be3",
   "metadata": {},
   "outputs": [
    {
     "name": "stdout",
     "output_type": "stream",
     "text": [
      "1781/1781 [==============================] - 3s 1ms/step\n",
      "Accuracy: 0.9987\n",
      "Precision: 0.9722\n",
      "Recall: 0.3211\n",
      "F1 Score: 0.4828\n"
     ]
    }
   ],
   "source": [
    "from sklearn.metrics import confusion_matrix, accuracy_score, precision_score, recall_score, f1_score\n",
    "# Evaluate the model on the test set\n",
    "y_pred = fraud_detection_model.predict(test_data)\n",
    "y_pred_binary = (y_pred > 0.5).astype(int)\n",
    "\n",
    "accuracy = accuracy_score(test_labels, y_pred_binary)\n",
    "precision = precision_score(test_labels, y_pred_binary)\n",
    "recall = recall_score(test_labels, y_pred_binary)\n",
    "f1 = f1_score(test_labels, y_pred_binary)\n",
    "\n",
    "print(f\"Accuracy: {accuracy:.4f}\")\n",
    "print(f\"Precision: {precision:.4f}\")\n",
    "print(f\"Recall: {recall:.4f}\")\n",
    "print(f\"F1 Score: {f1:.4f}\")"
   ]
  }
 ],
 "metadata": {
  "kernelspec": {
   "display_name": "Python 3 (ipykernel)",
   "language": "python",
   "name": "python3"
  },
  "language_info": {
   "codemirror_mode": {
    "name": "ipython",
    "version": 3
   },
   "file_extension": ".py",
   "mimetype": "text/x-python",
   "name": "python",
   "nbconvert_exporter": "python",
   "pygments_lexer": "ipython3",
   "version": "3.11.4"
  }
 },
 "nbformat": 4,
 "nbformat_minor": 5
}
